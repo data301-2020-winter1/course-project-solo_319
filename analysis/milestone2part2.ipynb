{
 "cells": [
  {
   "cell_type": "markdown",
   "metadata": {},
   "source": [
    "### Task 3: Method Chaining and Python Programs¶\n",
    "#### Step 3: Move your function into a new .py file: (complete)"
   ]
  },
  {
   "cell_type": "code",
   "execution_count": 8,
   "metadata": {},
   "outputs": [
    {
     "ename": "ModuleNotFoundError",
     "evalue": "No module named 'scripts.project_functions'",
     "output_type": "error",
     "traceback": [
      "\u001b[1;31m---------------------------------------------------------------------------\u001b[0m",
      "\u001b[1;31mModuleNotFoundError\u001b[0m                       Traceback (most recent call last)",
      "\u001b[1;32m<ipython-input-8-3fa723899c20>\u001b[0m in \u001b[0;36m<module>\u001b[1;34m\u001b[0m\n\u001b[1;32m----> 1\u001b[1;33m \u001b[1;32mimport\u001b[0m \u001b[0mscripts\u001b[0m\u001b[1;33m.\u001b[0m\u001b[0mproject_functions\u001b[0m\u001b[1;33m\u001b[0m\u001b[1;33m\u001b[0m\u001b[0m\n\u001b[0m\u001b[0;32m      2\u001b[0m \u001b[0mdf\u001b[0m \u001b[1;33m=\u001b[0m \u001b[0mproject_functions\u001b[0m\u001b[1;33m.\u001b[0m\u001b[0mload_and_process\u001b[0m\u001b[1;33m(\u001b[0m\u001b[1;34mr\"\"\"C:\\Users\\palmi\\data301\\data301_project\\course-project-solo_319\\data\\raw\\african_crises.csv\"\"\"\u001b[0m\u001b[1;33m)\u001b[0m\u001b[1;33m\u001b[0m\u001b[1;33m\u001b[0m\u001b[0m\n\u001b[0;32m      3\u001b[0m \u001b[0mdf\u001b[0m\u001b[1;33m\u001b[0m\u001b[1;33m\u001b[0m\u001b[0m\n",
      "\u001b[1;31mModuleNotFoundError\u001b[0m: No module named 'scripts.project_functions'"
     ]
    }
   ],
   "source": [
    "import scripts.project_functions\n",
    "df = project_functions.load_and_process(r\"\"\"C:\\Users\\palmi\\data301\\data301_project\\course-project-solo_319\\data\\raw\\african_crises.csv\"\"\")\n",
    "df"
   ]
  },
  {
   "cell_type": "code",
   "execution_count": 9,
   "metadata": {},
   "outputs": [
    {
     "ename": "ImportError",
     "evalue": "cannot import name 'project_functions' from 'scripts' (unknown location)",
     "output_type": "error",
     "traceback": [
      "\u001b[1;31m---------------------------------------------------------------------------\u001b[0m",
      "\u001b[1;31mImportError\u001b[0m                               Traceback (most recent call last)",
      "\u001b[1;32m<ipython-input-9-1b377b8f1047>\u001b[0m in \u001b[0;36m<module>\u001b[1;34m\u001b[0m\n\u001b[1;32m----> 1\u001b[1;33m \u001b[1;32mfrom\u001b[0m \u001b[0mscripts\u001b[0m \u001b[1;32mimport\u001b[0m \u001b[0mproject_functions\u001b[0m\u001b[1;33m\u001b[0m\u001b[1;33m\u001b[0m\u001b[0m\n\u001b[0m",
      "\u001b[1;31mImportError\u001b[0m: cannot import name 'project_functions' from 'scripts' (unknown location)"
     ]
    }
   ],
   "source": [
    "from scripts import project_functions"
   ]
  },
  {
   "cell_type": "code",
   "execution_count": null,
   "metadata": {},
   "outputs": [],
   "source": [
    "# As you can see, I had difficulty importing from project_functions.\n",
    "# I saw that a lot of others on Piazza had the same issue, so hopefully this won't hurt my mark!\n",
    "# I'll just use the function directly to get my data:"
   ]
  },
  {
   "cell_type": "markdown",
   "metadata": {},
   "source": [
    "### Task 4: Conduct an Exploratory Data Analysis (EDA) on your dataset:"
   ]
  },
  {
   "cell_type": "code",
   "execution_count": 10,
   "metadata": {},
   "outputs": [],
   "source": [
    "import pandas as pd\n",
    "import numpy as np\n",
    "import matplotlib.pyplot as plt\n",
    "import seaborn as sns\n",
    "sns.set_theme(style='white',font_scale=1.2)"
   ]
  },
  {
   "cell_type": "code",
   "execution_count": 11,
   "metadata": {},
   "outputs": [],
   "source": [
    "def load_and_process(path):\n",
    "    \n",
    "    # Method Chain 1 (for cleaning data and dropping columns):\n",
    "    \n",
    "    df = (   \n",
    "    pd.read_csv(path)\n",
    "    .drop(['case', 'cc3', 'gdp_weighted_default', 'independence', 'currency_crises', 'inflation_crises', 'banking_crisis'], axis=1)\n",
    "    .dropna()\n",
    "    .reset_index(drop=True)\n",
    "    )\n",
    "    \n",
    "    # Method Chain 2 (for dropping rows and resetting index):\n",
    "    \n",
    "    df1 = (\n",
    "    df[df.year >= 2000]\n",
    "    .reset_index(drop=True)\n",
    "    )\n",
    "    \n",
    "    return df1"
   ]
  },
  {
   "cell_type": "code",
   "execution_count": 16,
   "metadata": {},
   "outputs": [
    {
     "data": {
      "text/html": [
       "<div>\n",
       "<style scoped>\n",
       "    .dataframe tbody tr th:only-of-type {\n",
       "        vertical-align: middle;\n",
       "    }\n",
       "\n",
       "    .dataframe tbody tr th {\n",
       "        vertical-align: top;\n",
       "    }\n",
       "\n",
       "    .dataframe thead th {\n",
       "        text-align: right;\n",
       "    }\n",
       "</style>\n",
       "<table border=\"1\" class=\"dataframe\">\n",
       "  <thead>\n",
       "    <tr style=\"text-align: right;\">\n",
       "      <th></th>\n",
       "      <th>country</th>\n",
       "      <th>year</th>\n",
       "      <th>systemic_crisis</th>\n",
       "      <th>exch_usd</th>\n",
       "      <th>domestic_debt_in_default</th>\n",
       "      <th>sovereign_external_debt_default</th>\n",
       "      <th>inflation_annual_cpi</th>\n",
       "    </tr>\n",
       "  </thead>\n",
       "  <tbody>\n",
       "    <tr>\n",
       "      <th>0</th>\n",
       "      <td>Algeria</td>\n",
       "      <td>2000</td>\n",
       "      <td>0</td>\n",
       "      <td>75.3428</td>\n",
       "      <td>0</td>\n",
       "      <td>0</td>\n",
       "      <td>0.300</td>\n",
       "    </tr>\n",
       "    <tr>\n",
       "      <th>1</th>\n",
       "      <td>Algeria</td>\n",
       "      <td>2001</td>\n",
       "      <td>0</td>\n",
       "      <td>77.8196</td>\n",
       "      <td>0</td>\n",
       "      <td>0</td>\n",
       "      <td>4.200</td>\n",
       "    </tr>\n",
       "    <tr>\n",
       "      <th>2</th>\n",
       "      <td>Algeria</td>\n",
       "      <td>2002</td>\n",
       "      <td>0</td>\n",
       "      <td>79.7234</td>\n",
       "      <td>0</td>\n",
       "      <td>0</td>\n",
       "      <td>1.430</td>\n",
       "    </tr>\n",
       "    <tr>\n",
       "      <th>3</th>\n",
       "      <td>Algeria</td>\n",
       "      <td>2003</td>\n",
       "      <td>0</td>\n",
       "      <td>72.6128</td>\n",
       "      <td>0</td>\n",
       "      <td>0</td>\n",
       "      <td>4.259</td>\n",
       "    </tr>\n",
       "    <tr>\n",
       "      <th>4</th>\n",
       "      <td>Algeria</td>\n",
       "      <td>2004</td>\n",
       "      <td>0</td>\n",
       "      <td>72.6137</td>\n",
       "      <td>0</td>\n",
       "      <td>0</td>\n",
       "      <td>3.972</td>\n",
       "    </tr>\n",
       "    <tr>\n",
       "      <th>...</th>\n",
       "      <td>...</td>\n",
       "      <td>...</td>\n",
       "      <td>...</td>\n",
       "      <td>...</td>\n",
       "      <td>...</td>\n",
       "      <td>...</td>\n",
       "      <td>...</td>\n",
       "    </tr>\n",
       "    <tr>\n",
       "      <th>188</th>\n",
       "      <td>Zimbabwe</td>\n",
       "      <td>2009</td>\n",
       "      <td>1</td>\n",
       "      <td>354.8000</td>\n",
       "      <td>1</td>\n",
       "      <td>1</td>\n",
       "      <td>-7.670</td>\n",
       "    </tr>\n",
       "    <tr>\n",
       "      <th>189</th>\n",
       "      <td>Zimbabwe</td>\n",
       "      <td>2010</td>\n",
       "      <td>0</td>\n",
       "      <td>378.2000</td>\n",
       "      <td>1</td>\n",
       "      <td>1</td>\n",
       "      <td>3.217</td>\n",
       "    </tr>\n",
       "    <tr>\n",
       "      <th>190</th>\n",
       "      <td>Zimbabwe</td>\n",
       "      <td>2011</td>\n",
       "      <td>0</td>\n",
       "      <td>361.9000</td>\n",
       "      <td>1</td>\n",
       "      <td>1</td>\n",
       "      <td>4.920</td>\n",
       "    </tr>\n",
       "    <tr>\n",
       "      <th>191</th>\n",
       "      <td>Zimbabwe</td>\n",
       "      <td>2012</td>\n",
       "      <td>0</td>\n",
       "      <td>361.9000</td>\n",
       "      <td>1</td>\n",
       "      <td>1</td>\n",
       "      <td>3.720</td>\n",
       "    </tr>\n",
       "    <tr>\n",
       "      <th>192</th>\n",
       "      <td>Zimbabwe</td>\n",
       "      <td>2013</td>\n",
       "      <td>0</td>\n",
       "      <td>361.9000</td>\n",
       "      <td>1</td>\n",
       "      <td>1</td>\n",
       "      <td>1.632</td>\n",
       "    </tr>\n",
       "  </tbody>\n",
       "</table>\n",
       "<p>193 rows × 7 columns</p>\n",
       "</div>"
      ],
      "text/plain": [
       "      country  year  systemic_crisis  exch_usd  domestic_debt_in_default  \\\n",
       "0     Algeria  2000                0   75.3428                         0   \n",
       "1     Algeria  2001                0   77.8196                         0   \n",
       "2     Algeria  2002                0   79.7234                         0   \n",
       "3     Algeria  2003                0   72.6128                         0   \n",
       "4     Algeria  2004                0   72.6137                         0   \n",
       "..        ...   ...              ...       ...                       ...   \n",
       "188  Zimbabwe  2009                1  354.8000                         1   \n",
       "189  Zimbabwe  2010                0  378.2000                         1   \n",
       "190  Zimbabwe  2011                0  361.9000                         1   \n",
       "191  Zimbabwe  2012                0  361.9000                         1   \n",
       "192  Zimbabwe  2013                0  361.9000                         1   \n",
       "\n",
       "     sovereign_external_debt_default  inflation_annual_cpi  \n",
       "0                                  0                 0.300  \n",
       "1                                  0                 4.200  \n",
       "2                                  0                 1.430  \n",
       "3                                  0                 4.259  \n",
       "4                                  0                 3.972  \n",
       "..                               ...                   ...  \n",
       "188                                1                -7.670  \n",
       "189                                1                 3.217  \n",
       "190                                1                 4.920  \n",
       "191                                1                 3.720  \n",
       "192                                1                 1.632  \n",
       "\n",
       "[193 rows x 7 columns]"
      ]
     },
     "execution_count": 16,
     "metadata": {},
     "output_type": "execute_result"
    }
   ],
   "source": [
    "df1 = load_and_process(r\"\"\"C:\\Users\\palmi\\data301\\data301_project\\course-project-solo_319\\data\\raw\\african_crises.csv\"\"\")\n",
    "df1"
   ]
  },
  {
   "cell_type": "code",
   "execution_count": null,
   "metadata": {},
   "outputs": [],
   "source": []
  },
  {
   "cell_type": "code",
   "execution_count": null,
   "metadata": {},
   "outputs": [],
   "source": []
  }
 ],
 "metadata": {
  "kernelspec": {
   "display_name": "Python 3",
   "language": "python",
   "name": "python3"
  },
  "language_info": {
   "codemirror_mode": {
    "name": "ipython",
    "version": 3
   },
   "file_extension": ".py",
   "mimetype": "text/x-python",
   "name": "python",
   "nbconvert_exporter": "python",
   "pygments_lexer": "ipython3",
   "version": "3.8.3"
  }
 },
 "nbformat": 4,
 "nbformat_minor": 4
}
